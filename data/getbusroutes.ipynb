{
 "cells": [
  {
   "cell_type": "code",
   "execution_count": 1,
   "metadata": {},
   "outputs": [],
   "source": [
    "import requests, json\n",
    "from pymongo import MongoClient\n",
    "\n",
    "params = {'api_key': '2936bd0e3513432491fc22451728a327'}\n",
    "apiurl = 'https://api.wmata.com/Bus.svc/json/jRoutes'\n",
    "\n",
    "response = requests.get(apiurl, params=params).json()\n",
    "\n",
    "client = MongoClient('ds131737.mlab.com', 31737,\n",
    "                    username='guru_writer', \n",
    "                    password='^8aSHN45cV*xj',\n",
    "                    authSource='heroku_2xs5kb65',\n",
    "                    authMechanism='SCRAM-SHA-1')\n",
    "\n",
    "db = client['heroku_2xs5kb65']\n",
    "collection = db['busroutes']\n",
    "\n",
    "for route in response['Routes']:\n",
    "    collection.update_one(route, {'$set':route}, upsert=True)  \n",
    "    \n",
    "client.close()"
   ]
  }
 ],
 "metadata": {
  "kernelspec": {
   "display_name": "Python 3",
   "language": "python",
   "name": "python3"
  },
  "language_info": {
   "codemirror_mode": {
    "name": "ipython",
    "version": 3
   },
   "file_extension": ".py",
   "mimetype": "text/x-python",
   "name": "python",
   "nbconvert_exporter": "python",
   "pygments_lexer": "ipython3",
   "version": "3.6.7"
  }
 },
 "nbformat": 4,
 "nbformat_minor": 2
}
