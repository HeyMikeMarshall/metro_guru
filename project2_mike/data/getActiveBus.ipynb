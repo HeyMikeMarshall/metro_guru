{
 "cells": [
  {
   "cell_type": "code",
   "execution_count": 7,
   "metadata": {},
   "outputs": [],
   "source": [
    "import requests, json\n",
    "from pymongo import MongoClient\n",
    "\n",
    "params = {'api_key': '2936bd0e3513432491fc22451728a327'}\n",
    "apiurl = 'https://api.wmata.com/Bus.svc/json/jBusPositions'\n",
    "\n",
    "response = requests.get(apiurl, params=params).json()\n",
    "\n",
    "# client = MongoClient('ds131737.mlab.com', 31737,\n",
    "#                     username='guru_writer', \n",
    "#                     password='^8aSHN45cV*xj',\n",
    "#                     authSource='heroku_2xs5kb65',\n",
    "#                     authMechanism='SCRAM-SHA-1')\n",
    "\n",
    "# db = client['heroku_2xs5kb65']\n",
    "# collection = db['busstops']\n",
    "\n",
    "# for stop in response['Stops']:\n",
    "#     collection.update_one(stop, {'$set':stop}, upsert=True)  \n",
    "    \n",
    "# client.close()\n",
    "\n",
    "\n",
    "\n"
   ]
  },
  {
   "cell_type": "code",
   "execution_count": 12,
   "metadata": {},
   "outputs": [
    {
     "data": {
      "text/plain": [
       "'W6'"
      ]
     },
     "execution_count": 12,
     "metadata": {},
     "output_type": "execute_result"
    }
   ],
   "source": [
    "response['BusPositions'][0]['RouteID']"
   ]
  },
  {
   "cell_type": "code",
   "execution_count": null,
   "metadata": {},
   "outputs": [],
   "source": []
  }
 ],
 "metadata": {
  "kernelspec": {
   "display_name": "Python 3",
   "language": "python",
   "name": "python3"
  },
  "language_info": {
   "codemirror_mode": {
    "name": "ipython",
    "version": 3
   },
   "file_extension": ".py",
   "mimetype": "text/x-python",
   "name": "python",
   "nbconvert_exporter": "python",
   "pygments_lexer": "ipython3",
   "version": "3.6.7"
  }
 },
 "nbformat": 4,
 "nbformat_minor": 2
}
