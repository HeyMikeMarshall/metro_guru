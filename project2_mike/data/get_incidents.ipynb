{
 "cells": [
  {
   "cell_type": "code",
   "execution_count": 1,
   "metadata": {},
   "outputs": [
    {
     "name": "stdout",
     "output_type": "stream",
     "text": [
      "Trains\n",
      "Buses\n"
     ]
    }
   ],
   "source": [
    "import requests, json, threading\n",
    "from pymongo import MongoClient\n",
    "\n",
    "# Get updated rail and bus incidents every 30 seconds and upsert to \n",
    "\n",
    "def getincidents ():\n",
    "    threading.Timer(30.0, getincidents).start()\n",
    "    \n",
    "    params = {'api_key': '2936bd0e3513432491fc22451728a327'}\n",
    "    apiurl = 'https://api.wmata.com/Incidents.svc/json/Incidents'\n",
    "\n",
    "    response = requests.get(apiurl, params=params).json()\n",
    "\n",
    "    client = MongoClient('ds131737.mlab.com', 31737, \n",
    "                         username='guru_writer', \n",
    "                         password='^8aSHN45cV*xj',\n",
    "                         authSource='heroku_2xs5kb65',\n",
    "                         authMechanism='SCRAM-SHA-1')\n",
    "    db = client['heroku_2xs5kb65']\n",
    "    collection = db['incidents_rail']\n",
    "\n",
    "    for incident in response['Incidents']:\n",
    "        collection.update_one(incident, {'$set':incident}, upsert=True)  \n",
    "\n",
    "    client.close()\n",
    "    print(\"Trains\")\n",
    "    \n",
    "    params = {'api_key': '2936bd0e3513432491fc22451728a327'}\n",
    "    apiurl = 'https://api.wmata.com/Incidents.svc/json/BusIncidents'\n",
    "\n",
    "    response = requests.get(apiurl, params=params).json()\n",
    "\n",
    "    client = MongoClient('ds131737.mlab.com', 31737,\n",
    "                        username='guru_writer', \n",
    "                        password='^8aSHN45cV*xj',\n",
    "                        authSource='heroku_2xs5kb65',\n",
    "                        authMechanism='SCRAM-SHA-1')\n",
    "    db = client['heroku_2xs5kb65']\n",
    "    collection = db['incidents_bus']\n",
    "\n",
    "\n",
    "    for incident in response['BusIncidents']:\n",
    "        collection.update_one(incident, {'$set':incident}, upsert=True)  \n",
    "\n",
    "    client.close()\n",
    "    print(\"Buses\")\n",
    "    \n",
    "getincidents()\n",
    "    \n"
   ]
  },
  {
   "cell_type": "code",
   "execution_count": 2,
   "metadata": {},
   "outputs": [],
   "source": [
    "# Get Bus Incidents\n",
    "\n",
    "params = {'api_key': '2936bd0e3513432491fc22451728a327'}\n",
    "apiurl = 'https://api.wmata.com/Incidents.svc/json/BusIncidents'\n",
    "\n",
    "response = requests.get(apiurl, params=params).json()\n",
    "\n",
    "client = MongoClient('ds131737.mlab.com', 31737,\n",
    "                    username='guru_writer', \n",
    "                    password='^8aSHN45cV*xj',\n",
    "                    authSource='heroku_2xs5kb65',\n",
    "                    authMechanism='SCRAM-SHA-1')\n",
    "db = client['heroku_2xs5kb65']\n",
    "collection = db['incidents_bus']\n",
    "\n",
    "\n",
    "for incident in response['BusIncidents']:\n",
    "    collection.update_one(incident, {'$set':incident}, upsert=True)  \n",
    "\n",
    "client.close()\n",
    "\n"
   ]
  },
  {
   "cell_type": "code",
   "execution_count": null,
   "metadata": {},
   "outputs": [],
   "source": []
  }
 ],
 "metadata": {
  "kernelspec": {
   "display_name": "Python 3",
   "language": "python",
   "name": "python3"
  },
  "language_info": {
   "codemirror_mode": {
    "name": "ipython",
    "version": 3
   },
   "file_extension": ".py",
   "mimetype": "text/x-python",
   "name": "python",
   "nbconvert_exporter": "python",
   "pygments_lexer": "ipython3",
   "version": "3.6.7"
  }
 },
 "nbformat": 4,
 "nbformat_minor": 2
}
