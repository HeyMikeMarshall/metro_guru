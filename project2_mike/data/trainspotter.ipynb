{
 "cells": [
  {
   "cell_type": "code",
   "execution_count": 2,
   "metadata": {},
   "outputs": [
    {
     "data": {
      "text/plain": [
       "{'Trains': [{'Car': '8',\n",
       "   'Destination': 'NewCrltn',\n",
       "   'DestinationCode': 'D13',\n",
       "   'DestinationName': 'New Carrollton',\n",
       "   'Group': '1',\n",
       "   'Line': 'OR',\n",
       "   'LocationCode': 'K05',\n",
       "   'LocationName': 'East Falls Church',\n",
       "   'Min': 'BRD'},\n",
       "  {'Car': '8',\n",
       "   'Destination': 'Vienna',\n",
       "   'DestinationCode': 'K08',\n",
       "   'DestinationName': 'Vienna/Fairfax-GMU',\n",
       "   'Group': '2',\n",
       "   'Line': 'OR',\n",
       "   'LocationCode': 'K05',\n",
       "   'LocationName': 'East Falls Church',\n",
       "   'Min': '2'},\n",
       "  {'Car': '6',\n",
       "   'Destination': 'Wiehle',\n",
       "   'DestinationCode': 'N06',\n",
       "   'DestinationName': 'Wiehle-Reston East',\n",
       "   'Group': '2',\n",
       "   'Line': 'SV',\n",
       "   'LocationCode': 'K05',\n",
       "   'LocationName': 'East Falls Church',\n",
       "   'Min': '4'},\n",
       "  {'Car': '8',\n",
       "   'Destination': 'Largo',\n",
       "   'DestinationCode': 'G05',\n",
       "   'DestinationName': 'Largo Town Center',\n",
       "   'Group': '1',\n",
       "   'Line': 'SV',\n",
       "   'LocationCode': 'K05',\n",
       "   'LocationName': 'East Falls Church',\n",
       "   'Min': '8'},\n",
       "  {'Car': '6',\n",
       "   'Destination': 'Vienna',\n",
       "   'DestinationCode': 'K08',\n",
       "   'DestinationName': 'Vienna/Fairfax-GMU',\n",
       "   'Group': '2',\n",
       "   'Line': 'OR',\n",
       "   'LocationCode': 'K05',\n",
       "   'LocationName': 'East Falls Church',\n",
       "   'Min': '8'},\n",
       "  {'Car': '6',\n",
       "   'Destination': 'NewCrltn',\n",
       "   'DestinationCode': 'D13',\n",
       "   'DestinationName': 'New Carrollton',\n",
       "   'Group': '1',\n",
       "   'Line': 'OR',\n",
       "   'LocationCode': 'K05',\n",
       "   'LocationName': 'East Falls Church',\n",
       "   'Min': '9'}]}"
      ]
     },
     "execution_count": 2,
     "metadata": {},
     "output_type": "execute_result"
    }
   ],
   "source": [
    "import requests, json\n",
    "from pymongo import MongoClient\n",
    "\n",
    "\n",
    "stationcode = 'K05'\n",
    "params = {'api_key': '2936bd0e3513432491fc22451728a327'}\n",
    "apiurl = f'https://api.wmata.com/StationPrediction.svc/json/GetPrediction/{stationcode}'\n",
    "\n",
    "response = requests.get(apiurl, params=params).json()\n",
    "\n",
    "\n",
    "response"
   ]
  },
  {
   "cell_type": "code",
   "execution_count": null,
   "metadata": {},
   "outputs": [],
   "source": []
  }
 ],
 "metadata": {
  "kernelspec": {
   "display_name": "Python 3",
   "language": "python",
   "name": "python3"
  },
  "language_info": {
   "codemirror_mode": {
    "name": "ipython",
    "version": 3
   },
   "file_extension": ".py",
   "mimetype": "text/x-python",
   "name": "python",
   "nbconvert_exporter": "python",
   "pygments_lexer": "ipython3",
   "version": "3.6.7"
  }
 },
 "nbformat": 4,
 "nbformat_minor": 2
}
